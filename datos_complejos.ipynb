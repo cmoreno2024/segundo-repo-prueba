{
 "cells": [
  {
   "cell_type": "code",
   "execution_count": 2,
   "metadata": {},
   "outputs": [
    {
     "name": "stdout",
     "output_type": "stream",
     "text": [
      "{'juan': ['lengua', 'quimica'], 'maria': ['ingles', 'matematicas'], 'pedro': ['historia', 'geografia']}\n",
      "matematicas\n"
     ]
    }
   ],
   "source": [
    "materias_estudiantes = {\n",
    "    \"juan\": [\"lengua\",\"quimica\"],\n",
    "    \"maria\": [\"ingles\",\"matematicas\"],\n",
    "    \"pedro\": [\"historia\",\"geografia\"]\n",
    "}\n",
    "print(materias_estudiantes)\n",
    "print(materias_estudiantes[\"maria\"][1])"
   ]
  },
  {
   "cell_type": "markdown",
   "metadata": {},
   "source": [
    "bloque for"
   ]
  },
  {
   "cell_type": "code",
   "execution_count": 3,
   "metadata": {},
   "outputs": [
    {
     "name": "stdout",
     "output_type": "stream",
     "text": [
      "los colores son: rojo\n",
      "los colores son: azul\n",
      "los colores son: amarillo\n",
      "los colores son: verde\n"
     ]
    }
   ],
   "source": [
    "colores = [\"rojo\",\"azul\",\"amarillo\",\"verde\"]\n",
    "for c in colores:\n",
    "    print(\"los colores son:\", c)"
   ]
  },
  {
   "cell_type": "markdown",
   "metadata": {},
   "source": [
    "funcion range "
   ]
  },
  {
   "cell_type": "code",
   "execution_count": 7,
   "metadata": {},
   "outputs": [
    {
     "name": "stdout",
     "output_type": "stream",
     "text": [
      "10\n",
      "8\n",
      "6\n",
      "4\n",
      "2\n"
     ]
    }
   ],
   "source": [
    "for numero in range (10,0,-2):\n",
    "    print(numero)"
   ]
  },
  {
   "cell_type": "code",
   "execution_count": 12,
   "metadata": {},
   "outputs": [
    {
     "name": "stdout",
     "output_type": "stream",
     "text": [
      "('nombre', 'gonzalo')\n",
      "('apellido', 'pimentel')\n",
      "('edad', 35)\n",
      "('deporte_fav', ['tenis', 'futbol'])\n",
      "('ropa_talle', {'remera': 2, 'pantalon': 3})\n",
      "nombre\n",
      "apellido\n",
      "edad\n",
      "deporte_fav\n",
      "ropa_talle\n",
      "gonzalo\n",
      "pimentel\n",
      "35\n",
      "['tenis', 'futbol']\n",
      "{'remera': 2, 'pantalon': 3}\n"
     ]
    }
   ],
   "source": [
    "persona = {\"nombre\":\"gonzalo\",\n",
    "           \"apellido\": \"pimentel\",\n",
    "           \"edad\": 35,\n",
    "           \"deporte_fav\":[\"tenis\",\"futbol\"],\n",
    "           \"ropa_talle\": {\"remera\":2, \"pantalon\":3}}\n",
    "\n",
    "for a in persona.items():\n",
    "    print(a)\n",
    "for b in persona.keys():\n",
    "    print(b)\n",
    "for c in persona.values():\n",
    "    print(c)"
   ]
  },
  {
   "cell_type": "code",
   "execution_count": 33,
   "metadata": {},
   "outputs": [
    {
     "name": "stdout",
     "output_type": "stream",
     "text": [
      "la fruta que voy a comer es: naranja\n",
      "la fruta que voy a comer es: frutilla\n",
      "la fruta que voy a comer es: kiwi\n",
      "la fruta que voy a comer es: uva\n"
     ]
    }
   ],
   "source": [
    "frutas= [\"banana\",\"naranja\",\"frutilla\",\"kiwi\",\"mandarina\",\"uva\"]\n",
    "for a in frutas:\n",
    "    if a == \"banana\" or a == \"mandarina\":\n",
    "        continue\n",
    "    print(\"la fruta que voy a comer es:\", a)\n"
   ]
  },
  {
   "cell_type": "code",
   "execution_count": 34,
   "metadata": {},
   "outputs": [
    {
     "name": "stdout",
     "output_type": "stream",
     "text": [
      "solo voy a comer las siguientes frutas: banana\n",
      "solo voy a comer las siguientes frutas: naranja\n",
      "solo voy a comer las siguientes frutas: frutilla\n"
     ]
    }
   ],
   "source": [
    "for a in frutas:\n",
    "    if a == \"kiwi\":\n",
    "        break\n",
    "    print (\"solo voy a comer las siguientes frutas:\", a)"
   ]
  },
  {
   "cell_type": "markdown",
   "metadata": {},
   "source": [
    "CICLO WHILE "
   ]
  },
  {
   "cell_type": "code",
   "execution_count": 35,
   "metadata": {},
   "outputs": [
    {
     "name": "stdout",
     "output_type": "stream",
     "text": [
      "0\n",
      "1\n",
      "2\n",
      "3\n",
      "4\n",
      "5\n",
      "6\n",
      "7\n",
      "8\n",
      "9\n"
     ]
    }
   ],
   "source": [
    "numero = 0 \n",
    "while numero < 10:\n",
    "    print(numero)\n",
    "    numero += 1\n"
   ]
  }
 ],
 "metadata": {
  "kernelspec": {
   "display_name": "Python 3",
   "language": "python",
   "name": "python3"
  },
  "language_info": {
   "codemirror_mode": {
    "name": "ipython",
    "version": 3
   },
   "file_extension": ".py",
   "mimetype": "text/x-python",
   "name": "python",
   "nbconvert_exporter": "python",
   "pygments_lexer": "ipython3",
   "version": "3.12.0"
  }
 },
 "nbformat": 4,
 "nbformat_minor": 2
}
